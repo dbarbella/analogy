{
 "cells": [
  {
   "cell_type": "code",
   "execution_count": null,
   "metadata": {
    "collapsed": true
   },
   "outputs": [],
   "source": [
    "#consider sorting by sums\n",
    "#listThree needs to be added\n",
    "import csv\n",
    "\n",
    "#create lists\n",
    "listOne = []\n",
    "listTwo = []\n",
    "\n",
    "#open file for listOne and format it\n",
    "with open('file1.csv', 'r') as fileOne:\n",
    "    fileOneReader = csv.reader(fileOne)\n",
    "    for row in fileOneReader:\n",
    "        listOne.append(row)\n",
    "#open file for listTwo and format it\n",
    "with open('file2.csv', 'r') as fileTwo:\n",
    "    fileTwoReader = csv.reader(fileTwo)\n",
    "    for row2 in fileTwoReader:\n",
    "        fileTwo.append(row2)\n",
    "#if name = name then 1,2, or 3 gets appended next to other reviewers input\n",
    "with open('combinedRows.csv', 'w') as combinedFile:\n",
    "    combinedFileWriter = csv.writer(combinedFile)\n",
    "    for item1_row in listOne:\n",
    "        combined_row = []\n",
    "        combined_row.extend(item1_row)\n",
    "        for item2_row in listTwo:\n",
    "            if item1_row[0] == item2_row[0]:\n",
    "                combined_row.append(item2_row[2])\n",
    "        combinedFileWriter.writerow(combined_row)\n",
    "\n",
    "#needs to be sorted into Analogy, Unsure, Mistake Made, Not Analogy \n",
    "with open('Analogy.csv', 'w') as analogyFile:\n",
    "    analogyFileWriter = csv.writer(analogyFile)"
   ]
  }
 ],
 "metadata": {
  "kernelspec": {
   "display_name": "Python 3",
   "language": "python",
   "name": "python3"
  },
  "language_info": {
   "codemirror_mode": {
    "name": "ipython",
    "version": 3
   },
   "file_extension": ".py",
   "mimetype": "text/x-python",
   "name": "python",
   "nbconvert_exporter": "python",
   "pygments_lexer": "ipython3",
   "version": "3.5.2"
  }
 },
 "nbformat": 4,
 "nbformat_minor": 0
}
