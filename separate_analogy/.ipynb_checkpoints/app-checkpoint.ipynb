{
 "cells": [
  {
   "cell_type": "code",
   "execution_count": 2,
   "metadata": {
    "collapsed": false
   },
   "outputs": [
    {
     "name": "stdout",
     "output_type": "stream",
     "text": [
      "analogySample.csv.csv export sucess.\n",
      "notAnalogySample.csv.csv export sucess.\n",
      "unsureSample.csv.csv export sucess.\n",
      "Success\n"
     ]
    }
   ],
   "source": [
    "import csv\n",
    "import statistics\n",
    "\n",
    "\n",
    "sampleRatings = {}     # dict to hold the data from csv file\n",
    "incompleteRating = {}\n",
    "analogySample = {}\n",
    "notAnalogySample = {}\n",
    "unsureSample = {}\n",
    "\n",
    "# Method to load data from csv to sampleRatings\n",
    "def loadData(fileName):\n",
    "    with open(fileName, 'r') as file:\n",
    "        fileReader = csv.reader(file)\n",
    "        next(fileReader, None)\n",
    "        duplicates = []\n",
    "        # reading the csv row\n",
    "        for row in fileReader:\n",
    "            id = row[0]\n",
    "            text = row[1]\n",
    "            \n",
    "            if id in duplicates:\n",
    "                continue\n",
    "            \n",
    "            duplicates.append(id)\n",
    "\n",
    "            # Append if dict has an entry\n",
    "            if id in sampleRatings:\n",
    "                if row[2] == '': continue\n",
    "                try:\n",
    "                    rating = int(row[2])\n",
    "                    if rating<1 or rating>3:\n",
    "                        print(\"Error: Wrong rating type (Needs to be 1, 2 or 3)\\n\" + str(row))\n",
    "                        break\n",
    "                    sampleRatings[id][1].append(rating)\n",
    "                \n",
    "                except ValueError:\n",
    "                    print(\"Error: Wrong rating type (Needs to be 1, 2 or 3)\\n\" + str(row))\n",
    "            \n",
    "            # Create a new entry if not found\n",
    "            else:\n",
    "                if row[2] == '':\n",
    "                    continue\n",
    "                rating = int(row[2])\n",
    "                sampleRatings[id]=(text,[rating])\n",
    "                \n",
    "# filter the data with threshold reviews of (n)\n",
    "def filterData(threshold):\n",
    "    # Copy incomplete data to incompleteRating\n",
    "    for key, value in sampleRatings.items():\n",
    "        if len(value[1]) < threshold:\n",
    "            incompleteRating[key] = value\n",
    "    \n",
    "    # remove incomplete rating from sampleRatings\n",
    "    for key in incompleteRating:\n",
    "        del sampleRatings[key]\n",
    "\n",
    "# sort analogies by average of ratings \n",
    "def analogyRelegate(): \n",
    "    for key, value in sampleRatings.items():  \n",
    "        if statistics.mean(value[1]) < 2:\n",
    "            analogySample[key] = value\n",
    "        elif statistics.mean(value[1]) > 2:\n",
    "            notAnalogySample[key] = value\n",
    "        elif statistics.mean(value[1]) == 2:\n",
    "            unsureSample[key] = value \n",
    "            \n",
    "# Method to export dictionary as CSV files        \n",
    "def exportCSV(fileName, samples):\n",
    "    with open(fileName, 'w') as csvfile:\n",
    "        \n",
    "        writer = csv.writer(csvfile, quoting=csv.QUOTE_ALL)\n",
    "        writer.writerow(['id', 'text', 'ratings'])\n",
    "\n",
    "        for key, value in samples.items():\n",
    "            text = value[0]\n",
    "            ratingList = [rating for rating in value[1]]\n",
    "            outputRow = [key, text]\n",
    "            outputRow.extend(ratingList)\n",
    "            writer.writerow(outputRow)\n",
    "        print(fileName+\".csv export sucess.\")\n",
    "    \n",
    "def main():\n",
    "    # csv file names to import from\n",
    "    files = ['Reviewer 1.csv','Reviewer 2.csv','Reviewer 3.csv']\n",
    "\n",
    "    # loading data from files list\n",
    "    for fileName in files:\n",
    "        loadData(fileName)\n",
    "        \n",
    "    filterData(3)\n",
    "    analogyRelegate()\n",
    "    \n",
    "    exportCSV('analogySample.csv', analogySample)\n",
    "    exportCSV('notAnalogySample.csv', notAnalogySample)\n",
    "    exportCSV('unsureSample.csv', unsureSample)\n",
    "    print(\"Success\")\n",
    "    \n",
    "main()"
   ]
  },
  {
   "cell_type": "code",
   "execution_count": 52,
   "metadata": {
    "collapsed": false
   },
   "outputs": [
    {
     "data": {
      "text/plain": [
       "2"
      ]
     },
     "execution_count": 52,
     "metadata": {},
     "output_type": "execute_result"
    }
   ],
   "source": []
  },
  {
   "cell_type": "code",
   "execution_count": null,
   "metadata": {
    "collapsed": true
   },
   "outputs": [],
   "source": []
  }
 ],
 "metadata": {
  "kernelspec": {
   "display_name": "Python 3",
   "language": "python",
   "name": "python3"
  },
  "language_info": {
   "codemirror_mode": {
    "name": "ipython",
    "version": 3
   },
   "file_extension": ".py",
   "mimetype": "text/x-python",
   "name": "python",
   "nbconvert_exporter": "python",
   "pygments_lexer": "ipython3",
   "version": "3.5.2"
  }
 },
 "nbformat": 4,
 "nbformat_minor": 0
}
