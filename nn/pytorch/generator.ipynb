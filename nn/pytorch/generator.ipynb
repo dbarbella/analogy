{
 "cells": [
  {
   "cell_type": "markdown",
   "metadata": {},
   "source": [
    "### This notebook is used to generate a trainable corpus from the gutenberg dataset\n"
   ]
  },
  {
   "cell_type": "code",
   "execution_count": 1,
   "metadata": {},
   "outputs": [],
   "source": [
    "import csv\n",
    "def readCSV(fileName,r):\n",
    "    sent = []\n",
    "    with open(fileName) as file:\n",
    "        readcsv = csv.reader(file, delimiter=',')\n",
    "        for row in readcsv:\n",
    "            sentence = row[r]\n",
    "            sent.append(sentence)\n",
    "    return sent"
   ]
  },
  {
   "cell_type": "code",
   "execution_count": 2,
   "metadata": {},
   "outputs": [],
   "source": [
    "def _nines(digit):\n",
    "  num = \"9\" * digit\n",
    "  return int(num)\n",
    "\n",
    "\n",
    "def get_path(book_num,out_dir):\n",
    "  book_num = str(book_num)\n",
    "  num_len = len(book_num)\n",
    "\n",
    "  if num_len < 5:\n",
    "      fst = 0\n",
    "      fst_path = \"0-10000/\"\n",
    "  else:\n",
    "    fst = int(book_num[0]) * 10000\n",
    "    fst_path = (\"%s-%s\") % (fst, str(fst + 10000) + \"/\")\n",
    "  out_path = out_dir + fst_path\n",
    "\n",
    "  if num_len < 4:\n",
    "    snd = 0\n",
    "    snd_path = \"%s-%s/\" % (fst + snd, fst + snd + 999)\n",
    "  else:\n",
    "    last_four = (book_num[-4:])\n",
    "    snd = int((last_four)[0])*(10**3)\n",
    "\n",
    "    snd_path = \"%s-%s/\" % (fst + snd, fst + snd + 999)\n",
    "  out_path += snd_path\n",
    "\n",
    "  if num_len < 3 or book_num[-3] == \"0\":\n",
    "    trd = 0\n",
    "    trd_path = \"%s-%s/\" %(fst + snd+ trd,fst + snd +trd + 99)\n",
    "  else:\n",
    "    last_three = book_num[-3:]\n",
    "    trd = int((last_three)[0])*(10**2)\n",
    "    trd_path = \"%s-%s/\" %(fst + snd+ trd,fst + snd +trd + 99)\n",
    "\n",
    "  out_path += trd_path\n",
    "  return out_path\n"
   ]
  },
  {
   "cell_type": "code",
   "execution_count": 3,
   "metadata": {},
   "outputs": [],
   "source": [
    "texts = \"\"\n",
    "sentences = []\n",
    "import os\n",
    "_dir = '../..'\n",
    "for i in range(1,1000,100):\n",
    "    dir_name = _dir + str(get_path(i,\"/\"))\n",
    "    for fname in os.listdir(dir_name):\n",
    "        if \"csv\" in fname:\n",
    "            name = dir_name + fname\n",
    "            f = open(name, \"r\")\n",
    "            texts += f.read()\n",
    "            f.close()\n",
    "            sentences+=readCSV(name, 1)"
   ]
  },
  {
   "cell_type": "code",
   "execution_count": 10,
   "metadata": {},
   "outputs": [
    {
     "name": "stdout",
     "output_type": "stream",
     "text": [
      "Number of sentences in the corpus:  36341\n",
      "Number of words in the corpus:  1459187\n"
     ]
    }
   ],
   "source": [
    "print(\"Number of sentences in the corpus: \", len(sentences))\n",
    "print(\"Number of words in the corpus: \", len(texts.split()))"
   ]
  },
  {
   "cell_type": "code",
   "execution_count": 5,
   "metadata": {},
   "outputs": [],
   "source": [
    "def writeFile(lst, file):\n",
    "    with open(file, \"w\") as file:\n",
    "        for s in lst:\n",
    "            file.write(\"%s\\n\" % s)\n"
   ]
  },
  {
   "cell_type": "code",
   "execution_count": 25,
   "metadata": {},
   "outputs": [],
   "source": [
    "import random\n",
    "random.shuffle(sentences)\n",
    "train_num = int(len(sentences) * 0.8)\n",
    "writeFile(sentences[train_num:], \"test.txt\")\n",
    "training_num = int(train_num * 0.8)\n",
    "writeFile(sentences[:training_num], \"train.txt\")\n",
    "writeFile(sentences[training_num: train_num], \"validation.txt\")"
   ]
  },
  {
   "cell_type": "code",
   "execution_count": 9,
   "metadata": {},
   "outputs": [
    {
     "data": {
      "text/plain": [
       "0"
      ]
     },
     "execution_count": 9,
     "metadata": {},
     "output_type": "execute_result"
    }
   ],
   "source": [
    "len(good_sent)"
   ]
  },
  {
   "cell_type": "code",
   "execution_count": null,
   "metadata": {},
   "outputs": [],
   "source": []
  }
 ],
 "metadata": {
  "kernelspec": {
   "display_name": "Python 3",
   "language": "python",
   "name": "python3"
  },
  "language_info": {
   "codemirror_mode": {
    "name": "ipython",
    "version": 3
   },
   "file_extension": ".py",
   "mimetype": "text/x-python",
   "name": "python",
   "nbconvert_exporter": "python",
   "pygments_lexer": "ipython3",
   "version": "3.6.5"
  }
 },
 "nbformat": 4,
 "nbformat_minor": 2
}
