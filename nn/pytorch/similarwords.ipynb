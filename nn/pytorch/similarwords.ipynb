{
 "cells": [
  {
   "cell_type": "code",
   "execution_count": 1,
   "metadata": {},
   "outputs": [],
   "source": [
    "import os\n",
    "os.chdir(\"../../glove/\")"
   ]
  },
  {
   "cell_type": "code",
   "execution_count": 2,
   "metadata": {},
   "outputs": [],
   "source": [
    "import numpy as np\n",
    "def load_glove_vectors(glove_file):\n",
    "    with open(glove_file, 'r', encoding=\"utf-8\") as file:\n",
    "        words = set()\n",
    "        word_to_vec = {}\n",
    "        for line in file:\n",
    "            line = line.strip().split()\n",
    "            curr_word = line[0]\n",
    "            words.add(curr_word)\n",
    "            word_to_vec[curr_word] = np.array(line[1:], dtype=np.float64)\n",
    "    return words, word_to_vec"
   ]
  },
  {
   "cell_type": "code",
   "execution_count": 12,
   "metadata": {},
   "outputs": [],
   "source": [
    "words, word_to_vec = load_glove_vectors(\"glove.6B.100d.txt\")"
   ]
  },
  {
   "cell_type": "code",
   "execution_count": 13,
   "metadata": {},
   "outputs": [],
   "source": [
    "def find_cosine_similarity(u, v):\n",
    "    cos_angle = 0.0\n",
    "    dot = np.dot(u,v)\n",
    "    norm_u = np.sqrt(np.sum(u**2))\n",
    "    norm_v = np.sqrt(np.sum(v**2))\n",
    "    cos_angle = dot/(norm_u)/norm_v\n",
    "    return cos_angle"
   ]
  },
  {
   "cell_type": "code",
   "execution_count": 50,
   "metadata": {},
   "outputs": [],
   "source": [
    "from heapq import heappush, heapify, heappop\n",
    "class Node:\n",
    "    def __init__(self, word, base):\n",
    "        self.word = word\n",
    "        self.distance = eucli_distance(word_to_vec[base], word_to_vec[word])\n",
    "    def __lt__(self, other):\n",
    "        return self.distance > other.distance\n",
    "        \n",
    "def eucli_distance(u,v):\n",
    "    return np.linalg.norm(u-v)\n",
    "\n",
    "def closest_words(base, num):\n",
    "    closest = []\n",
    "    for word in words:\n",
    "        if word == base:\n",
    "            continue\n",
    "        if len(closest) < num:\n",
    "            closest.append(Node(word, base))\n",
    "            continue\n",
    "        heapify(closest)\n",
    "        heappop(closest)\n",
    "        heappush(closest, Node(word,base))\n",
    "    return [w.word for w in closest]"
   ]
  },
  {
   "cell_type": "code",
   "execution_count": 28,
   "metadata": {},
   "outputs": [],
   "source": [
    "def find_analogy(a,b,c):\n",
    "    A = word_to_vec[a]\n",
    "    B = word_to_vec[b]\n",
    "    C = word_to_vec[c]\n",
    "    best_word = \"\"\n",
    "    max_sim = float(\"-inf\")\n",
    "    for word in words:\n",
    "        if word in [a,b,c]:\n",
    "            continue\n",
    "        curr_sim = find_cosine_similarity(A-B, C- word_to_vec[word])\n",
    "        if curr_sim > max_sim:\n",
    "            max_sim = curr_sim\n",
    "            best_word = word\n",
    "    return best_word"
   ]
  },
  {
   "cell_type": "code",
   "execution_count": 51,
   "metadata": {},
   "outputs": [
    {
     "data": {
      "text/plain": [
       "'week'"
      ]
     },
     "execution_count": 51,
     "metadata": {},
     "output_type": "execute_result"
    }
   ],
   "source": [
    "find_analogy(\"sun\",\"day\",\"moon\")"
   ]
  },
  {
   "cell_type": "code",
   "execution_count": 52,
   "metadata": {},
   "outputs": [],
   "source": [
    "king = closest_words(\"king\",50)"
   ]
  },
  {
   "cell_type": "code",
   "execution_count": 53,
   "metadata": {},
   "outputs": [],
   "source": [
    "queen = closest_words(\"queen\",50)"
   ]
  },
  {
   "cell_type": "code",
   "execution_count": 54,
   "metadata": {},
   "outputs": [
    {
     "data": {
      "text/plain": [
       "0.22"
      ]
     },
     "execution_count": 54,
     "metadata": {},
     "output_type": "execute_result"
    }
   ],
   "source": [
    "len([x for x in king if x in queen])/50"
   ]
  },
  {
   "cell_type": "code",
   "execution_count": 55,
   "metadata": {},
   "outputs": [
    {
     "data": {
      "text/plain": [
       "4.281252149113388"
      ]
     },
     "execution_count": 55,
     "metadata": {},
     "output_type": "execute_result"
    }
   ],
   "source": [
    "eucli_distance(word_to_vec[\"king\"],word_to_vec[\"queen\"])"
   ]
  },
  {
   "cell_type": "code",
   "execution_count": 76,
   "metadata": {},
   "outputs": [],
   "source": [
    "steve = closest_words(\"simon\",50)"
   ]
  },
  {
   "cell_type": "code",
   "execution_count": 78,
   "metadata": {},
   "outputs": [
    {
     "data": {
      "text/plain": [
       "['mayborn',\n",
       " 'mann',\n",
       " 'gould',\n",
       " 'johnston',\n",
       " 'murphy',\n",
       " 'patterson',\n",
       " 'steve',\n",
       " 'wilson',\n",
       " 'michael',\n",
       " 'elliott',\n",
       " 'gordon',\n",
       " 'adam',\n",
       " 'richard',\n",
       " 'clarke',\n",
       " 'andy',\n",
       " 'arnold',\n",
       " 'jonathan',\n",
       " 'cooper',\n",
       " 'murray',\n",
       " 'henderson',\n",
       " 'barker',\n",
       " 'sullivan',\n",
       " 'lloyd',\n",
       " 'bennett',\n",
       " 'jacobs',\n",
       " 'matthews',\n",
       " 'shaw',\n",
       " 'martin',\n",
       " 'ellis',\n",
       " 'moore',\n",
       " 'harris',\n",
       " 'spencer',\n",
       " 'evans',\n",
       " 'baker',\n",
       " 'lyons',\n",
       " 'davies',\n",
       " 'adams',\n",
       " 'morrison',\n",
       " 'barnes',\n",
       " 'watson',\n",
       " 'newman',\n",
       " 'taylor',\n",
       " 'neil',\n",
       " 'clark',\n",
       " 'andrew',\n",
       " 'anderson',\n",
       " 'stuart',\n",
       " 'russell',\n",
       " 'david',\n",
       " 'slater']"
      ]
     },
     "execution_count": 78,
     "metadata": {},
     "output_type": "execute_result"
    }
   ],
   "source": [
    "steve"
   ]
  },
  {
   "cell_type": "code",
   "execution_count": null,
   "metadata": {},
   "outputs": [],
   "source": []
  }
 ],
 "metadata": {
  "kernelspec": {
   "display_name": "Python 3",
   "language": "python",
   "name": "python3"
  },
  "language_info": {
   "codemirror_mode": {
    "name": "ipython",
    "version": 3
   },
   "file_extension": ".py",
   "mimetype": "text/x-python",
   "name": "python",
   "nbconvert_exporter": "python",
   "pygments_lexer": "ipython3",
   "version": "3.6.5"
  }
 },
 "nbformat": 4,
 "nbformat_minor": 2
}
