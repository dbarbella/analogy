{
 "cells": [
  {
   "cell_type": "code",
   "execution_count": 1,
   "metadata": {},
   "outputs": [],
   "source": [
    "import os\n",
    "os.chdir(\"../../glove/\")"
   ]
  },
  {
   "cell_type": "code",
   "execution_count": 2,
   "metadata": {},
   "outputs": [],
   "source": [
    "import numpy as np\n",
    "def load_glove_vectors(glove_file):\n",
    "    with open(glove_file, 'r', encoding=\"utf-8\") as file:\n",
    "        words = set()\n",
    "        word_to_vec = {}\n",
    "        for line in file:\n",
    "            line = line.strip().split()\n",
    "            curr_word = line[0]\n",
    "            words.add(curr_word)\n",
    "            word_to_vec[curr_word] = np.array(line[1:], dtype=np.float64)\n",
    "    return words, word_to_vec"
   ]
  },
  {
   "cell_type": "code",
   "execution_count": 3,
   "metadata": {},
   "outputs": [],
   "source": [
    "words, word_to_vec = load_glove_vectors(\"glove.6B.100d.txt\")"
   ]
  },
  {
   "cell_type": "code",
   "execution_count": 4,
   "metadata": {},
   "outputs": [],
   "source": [
    "def find_cosine_similarity(u, v):\n",
    "    cos_angle = 0.0\n",
    "    dot = np.dot(u,v)\n",
    "    norm_u = np.sqrt(np.sum(u**2))\n",
    "    norm_v = np.sqrt(np.sum(v**2))\n",
    "    cos_angle = dot/(norm_u)/norm_v\n",
    "    return cos_angle"
   ]
  },
  {
   "cell_type": "code",
   "execution_count": 105,
   "metadata": {},
   "outputs": [],
   "source": [
    "from heapq import heappush, heapify, heappop\n",
    "class Node:\n",
    "    def __init__(self, word, base):\n",
    "        self.word = word\n",
    "        self.distance = eucli_distance(word_to_vec[base], word_to_vec[word])\n",
    "    def __lt__(self, other):\n",
    "        return self.distance > other.distance\n",
    "\n",
    "class OriginNode:\n",
    "    def __init__(self, word):\n",
    "        self.word = word\n",
    "        self.distance = distance_from_origin(word_to_vec[word])\n",
    "    def __lt__(self, other):\n",
    "        return self.distance < other.distance\n",
    "\n",
    "def distance_from_origin(u):\n",
    "    return np.sum(u**2)\n",
    "\n",
    "def eucli_distance(u,v):\n",
    "    return np.linalg.norm(u-v)\n",
    "\n",
    "def closest_words(base, num):\n",
    "    closest = []\n",
    "    for word in words:\n",
    "        if word == base:\n",
    "            continue\n",
    "        if len(closest) < num:\n",
    "            closest.append(Node(word, base))\n",
    "            continue\n",
    "        heapify(closest)\n",
    "        heappop(closest)\n",
    "        heappush(closest, Node(word,base))\n",
    "    return [w.word for w in closest]\n",
    "\n",
    "def words_from_origin(num):\n",
    "    closest = []\n",
    "    for word in words:\n",
    "        if len(closest) < num:\n",
    "            closest.append(OriginNode(word))\n",
    "            continue\n",
    "        heapify(closest)\n",
    "        heappop(closest)\n",
    "        heappush(closest, OriginNode(word))\n",
    "    return [w.word for w in closest]\n",
    "    "
   ]
  },
  {
   "cell_type": "code",
   "execution_count": 106,
   "metadata": {},
   "outputs": [
    {
     "data": {
      "text/plain": [
       "['kiddle',\n",
       " '9a-4p',\n",
       " 'eighteens',\n",
       " '#e',\n",
       " 'resend',\n",
       " 'hushen',\n",
       " 'passeriformes',\n",
       " 'fachhochschule',\n",
       " 'nytimes',\n",
       " 'passerine',\n",
       " '20003',\n",
       " 'nikkei-225',\n",
       " '404-526-5456',\n",
       " '30-share',\n",
       " '225-issue',\n",
       " '100-share',\n",
       " 'coxnet',\n",
       " '212-556-4204',\n",
       " 'non-families',\n",
       " 'householder',\n",
       " 'tael',\n",
       " 'republish',\n",
       " 'non-mandatory',\n",
       " 'daybook',\n",
       " 'stoxx',\n",
       " 'hah',\n",
       " 'gmina',\n",
       " 'herein',\n",
       " 'taiex',\n",
       " 'nonsubscribers']"
      ]
     },
     "execution_count": 106,
     "metadata": {},
     "output_type": "execute_result"
    }
   ],
   "source": [
    "words_from_origin(30)"
   ]
  },
  {
   "cell_type": "code",
   "execution_count": 104,
   "metadata": {},
   "outputs": [
    {
     "data": {
      "text/plain": [
       "6.621430723038133"
      ]
     },
     "execution_count": 104,
     "metadata": {},
     "output_type": "execute_result"
    }
   ],
   "source": [
    "distance_from_origin(word_to_vec[\"kiddle\"])"
   ]
  },
  {
   "cell_type": "code",
   "execution_count": 6,
   "metadata": {},
   "outputs": [],
   "source": [
    "def find_analogy(a,b,c):\n",
    "    A = word_to_vec[a]\n",
    "    B = word_to_vec[b]\n",
    "    C = word_to_vec[c]\n",
    "    best_word = \"\"\n",
    "    max_sim = float(\"-inf\")\n",
    "    for word in words:\n",
    "        if word in [a,b,c]:\n",
    "            continue\n",
    "        curr_sim = find_cosine_similarity(A-B, C- word_to_vec[word])\n",
    "        if curr_sim > max_sim:\n",
    "            max_sim = curr_sim\n",
    "            best_word = word\n",
    "    return best_word"
   ]
  },
  {
   "cell_type": "code",
   "execution_count": 14,
   "metadata": {},
   "outputs": [
    {
     "data": {
      "text/plain": [
       "'heftier'"
      ]
     },
     "execution_count": 14,
     "metadata": {},
     "output_type": "execute_result"
    }
   ],
   "source": [
    "find_analogy(\"light\",\"lighter\",\"greedy\")"
   ]
  },
  {
   "cell_type": "code",
   "execution_count": 25,
   "metadata": {},
   "outputs": [],
   "source": [
    "king = closest_words(\"king\",100)"
   ]
  },
  {
   "cell_type": "code",
   "execution_count": 26,
   "metadata": {},
   "outputs": [],
   "source": [
    "queen = closest_words(\"queen\",100)"
   ]
  },
  {
   "cell_type": "code",
   "execution_count": 28,
   "metadata": {},
   "outputs": [],
   "source": [
    "man = closest_words(\"man\",100)\n",
    "woman = closest_words(\"woman\",100)\n"
   ]
  },
  {
   "cell_type": "code",
   "execution_count": 86,
   "metadata": {},
   "outputs": [
    {
     "data": {
      "text/plain": [
       "['kiddle', 'named', 'father']"
      ]
     },
     "execution_count": 86,
     "metadata": {},
     "output_type": "execute_result"
    }
   ],
   "source": [
    "p2 = [x for x in man if x in woman]\n",
    "p1 =  [x for x in king if x in queen]\n",
    "[x for x in p1 if x in p2]"
   ]
  },
  {
   "cell_type": "code",
   "execution_count": 29,
   "metadata": {},
   "outputs": [],
   "source": [
    "cat = closest_words(\"cat\",100)\n",
    "dog = closest_words(\"dog\",100)\n",
    "puppy = closest_words(\"puppy\",100)\n",
    "kitten = closest_words(\"kitten\",100)"
   ]
  },
  {
   "cell_type": "code",
   "execution_count": 35,
   "metadata": {},
   "outputs": [
    {
     "data": {
      "text/plain": [
       "['kiddle', 'pooch', 'rottweiler', 'pug', 'puppies']"
      ]
     },
     "execution_count": 35,
     "metadata": {},
     "output_type": "execute_result"
    }
   ],
   "source": [
    "p1 = [x for x in cat if x in kitten]\n",
    "p2 = [x for x in dog if x in puppy]\n",
    "[x for x in p1 if x in p2]"
   ]
  },
  {
   "cell_type": "code",
   "execution_count": 36,
   "metadata": {},
   "outputs": [],
   "source": [
    "nucleus = closest_words(\"nucleus\",100)\n",
    "electron = closest_words(\"electron\",100)\n",
    "sun = closest_words(\"sun\",100)\n",
    "planet = closest_words(\"planet\",100)"
   ]
  },
  {
   "cell_type": "code",
   "execution_count": 61,
   "metadata": {},
   "outputs": [
    {
     "data": {
      "text/plain": [
       "['kiddle']"
      ]
     },
     "execution_count": 61,
     "metadata": {},
     "output_type": "execute_result"
    }
   ],
   "source": [
    "p1 = [x for x in electron if x in nucleus]\n",
    "p2 = [x for x in sun if x in planet]\n",
    "[x for x in p1 if x in p2]"
   ]
  },
  {
   "cell_type": "code",
   "execution_count": 88,
   "metadata": {},
   "outputs": [
    {
     "data": {
      "image/png": "[encoded data removed]",
      "text/plain": [
       "<Figure size 1080x1080 with 1 Axes>"
      ]
     },
     "metadata": {},
     "output_type": "display_data"
    }
   ],
   "source": [
    "tmp = list(words)\n",
    "noise = 5\n",
    "noise_x = [word_to_vec[tmp[i]][0] for i in range(noise)]\n",
    "noise_y = [word_to_vec[tmp[i]][4] for i in range(noise)]\n",
    "noise_w = tmp[:noise]\n",
    "lst_words = p2 \n",
    "num = len(lst_words)\n",
    "X = [word_to_vec[lst_words[i]][0] for i in range(num)] \n",
    "y = [word_to_vec[lst_words[i]][4] for i in range(num)] \n",
    "w = lst_words[:num] \n",
    "\n",
    "import matplotlib.pyplot as plt\n",
    "fig, ax = plt.subplots(figsize=(15,15))\n",
    "ax.scatter(X, y)\n",
    "for i, txt in enumerate(w):\n",
    "    ax.annotate(txt, (X[i], y[i]))\n",
    "ax.scatter(noise_x, noise_y)\n",
    "for i, txt in enumerate(noise_w):\n",
    "    ax.annotate(txt, (noise_x[i], noise_y[i]))"
   ]
  },
  {
   "cell_type": "code",
   "execution_count": null,
   "metadata": {},
   "outputs": [],
   "source": []
  }
 ],
 "metadata": {
  "kernelspec": {
   "display_name": "Python 3",
   "language": "python",
   "name": "python3"
  },
  "language_info": {
   "codemirror_mode": {
    "name": "ipython",
    "version": 3
   },
   "file_extension": ".py",
   "mimetype": "text/x-python",
   "name": "python",
   "nbconvert_exporter": "python",
   "pygments_lexer": "ipython3",
   "version": "3.6.5"
  }
 },
 "nbformat": 4,
 "nbformat_minor": 2
}
